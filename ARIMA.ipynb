{
  "nbformat": 4,
  "nbformat_minor": 0,
  "metadata": {
    "colab": {
      "provenance": []
    },
    "kernelspec": {
      "name": "python3",
      "display_name": "Python 3"
    },
    "language_info": {
      "name": "python"
    }
  },
  "cells": [
    {
      "cell_type": "code",
      "execution_count": 2,
      "metadata": {
        "colab": {
          "base_uri": "https://localhost:8080/"
        },
        "id": "zDXsIbIJlCJg",
        "outputId": "13d11953-8527-4f0c-89b4-672849cc5818"
      },
      "outputs": [
        {
          "output_type": "stream",
          "name": "stdout",
          "text": [
            "Mounted at /content/drive\n"
          ]
        }
      ],
      "source": [
        "from google.colab import drive\n",
        "drive.mount('/content/drive')"
      ]
    },
    {
      "cell_type": "code",
      "source": [
        "!pip install pmdarima"
      ],
      "metadata": {
        "colab": {
          "base_uri": "https://localhost:8080/"
        },
        "id": "h-mMwQWhlc4W",
        "outputId": "bb1e8192-dad0-4587-acf6-3bb5a892cad0"
      },
      "execution_count": 3,
      "outputs": [
        {
          "output_type": "stream",
          "name": "stdout",
          "text": [
            "Collecting pmdarima\n",
            "  Downloading pmdarima-2.0.4-cp310-cp310-manylinux_2_17_x86_64.manylinux2014_x86_64.manylinux_2_28_x86_64.whl.metadata (7.8 kB)\n",
            "Requirement already satisfied: joblib>=0.11 in /usr/local/lib/python3.10/dist-packages (from pmdarima) (1.4.2)\n",
            "Requirement already satisfied: Cython!=0.29.18,!=0.29.31,>=0.29 in /usr/local/lib/python3.10/dist-packages (from pmdarima) (3.0.11)\n",
            "Requirement already satisfied: numpy>=1.21.2 in /usr/local/lib/python3.10/dist-packages (from pmdarima) (1.26.4)\n",
            "Requirement already satisfied: pandas>=0.19 in /usr/local/lib/python3.10/dist-packages (from pmdarima) (2.2.2)\n",
            "Requirement already satisfied: scikit-learn>=0.22 in /usr/local/lib/python3.10/dist-packages (from pmdarima) (1.5.2)\n",
            "Requirement already satisfied: scipy>=1.3.2 in /usr/local/lib/python3.10/dist-packages (from pmdarima) (1.13.1)\n",
            "Requirement already satisfied: statsmodels>=0.13.2 in /usr/local/lib/python3.10/dist-packages (from pmdarima) (0.14.4)\n",
            "Requirement already satisfied: urllib3 in /usr/local/lib/python3.10/dist-packages (from pmdarima) (2.2.3)\n",
            "Requirement already satisfied: setuptools!=50.0.0,>=38.6.0 in /usr/local/lib/python3.10/dist-packages (from pmdarima) (75.1.0)\n",
            "Requirement already satisfied: packaging>=17.1 in /usr/local/lib/python3.10/dist-packages (from pmdarima) (24.2)\n",
            "Requirement already satisfied: python-dateutil>=2.8.2 in /usr/local/lib/python3.10/dist-packages (from pandas>=0.19->pmdarima) (2.8.2)\n",
            "Requirement already satisfied: pytz>=2020.1 in /usr/local/lib/python3.10/dist-packages (from pandas>=0.19->pmdarima) (2024.2)\n",
            "Requirement already satisfied: tzdata>=2022.7 in /usr/local/lib/python3.10/dist-packages (from pandas>=0.19->pmdarima) (2024.2)\n",
            "Requirement already satisfied: threadpoolctl>=3.1.0 in /usr/local/lib/python3.10/dist-packages (from scikit-learn>=0.22->pmdarima) (3.5.0)\n",
            "Requirement already satisfied: patsy>=0.5.6 in /usr/local/lib/python3.10/dist-packages (from statsmodels>=0.13.2->pmdarima) (1.0.1)\n",
            "Requirement already satisfied: six>=1.5 in /usr/local/lib/python3.10/dist-packages (from python-dateutil>=2.8.2->pandas>=0.19->pmdarima) (1.16.0)\n",
            "Downloading pmdarima-2.0.4-cp310-cp310-manylinux_2_17_x86_64.manylinux2014_x86_64.manylinux_2_28_x86_64.whl (2.1 MB)\n",
            "\u001b[2K   \u001b[90m━━━━━━━━━━━━━━━━━━━━━━━━━━━━━━━━━━━━━━━━\u001b[0m \u001b[32m2.1/2.1 MB\u001b[0m \u001b[31m18.5 MB/s\u001b[0m eta \u001b[36m0:00:00\u001b[0m\n",
            "\u001b[?25hInstalling collected packages: pmdarima\n",
            "Successfully installed pmdarima-2.0.4\n"
          ]
        }
      ]
    },
    {
      "cell_type": "code",
      "source": [
        "import numpy as np\n",
        "import pandas as pd\n",
        "import matplotlib.pyplot as plt\n",
        "from sklearn.preprocessing import MinMaxScaler\n",
        "from sklearn.metrics import mean_squared_error, mean_absolute_error, r2_score\n",
        "from statsmodels.tsa.arima.model import ARIMA\n",
        "from pmdarima import auto_arima\n"
      ],
      "metadata": {
        "id": "b6eWVPrF0AZO"
      },
      "execution_count": 4,
      "outputs": []
    },
    {
      "cell_type": "code",
      "source": [
        "# Load the preprocessed dataset\n",
        "print(\"Loading dataset...\")\n",
        "preprocessed_dataset = pd.read_csv('/content/drive/MyDrive/dataset/preprocessed_battery_data.csv')\n",
        "\n",
        "print(preprocessed_dataset.shape)"
      ],
      "metadata": {
        "colab": {
          "base_uri": "https://localhost:8080/"
        },
        "id": "p1-7u4D60B53",
        "outputId": "aebe6069-2fc7-4247-d6c4-5e6eace1133c"
      },
      "execution_count": 5,
      "outputs": [
        {
          "output_type": "stream",
          "name": "stdout",
          "text": [
            "Loading dataset...\n",
            "(8766, 8)\n"
          ]
        }
      ]
    },
    {
      "cell_type": "code",
      "source": [
        "# Separate features and target\n",
        "features = preprocessed_dataset.drop('SOH', axis=1)\n",
        "target = preprocessed_dataset['SOH']\n",
        "\n",
        "print(features.shape)\n",
        "print(target.shape)"
      ],
      "metadata": {
        "colab": {
          "base_uri": "https://localhost:8080/"
        },
        "id": "AoEQkMsM0Cev",
        "outputId": "8d5b82e1-60d0-47a0-ceb7-f6323ab50b12"
      },
      "execution_count": 6,
      "outputs": [
        {
          "output_type": "stream",
          "name": "stdout",
          "text": [
            "(8766, 7)\n",
            "(8766,)\n"
          ]
        }
      ]
    },
    {
      "cell_type": "code",
      "source": [
        "# Scale the data\n",
        "feature_scaler = MinMaxScaler(feature_range=(-1, 1))\n",
        "target_scaler = MinMaxScaler(feature_range=(-1, 1))\n",
        "\n",
        "# Scale the features and target\n",
        "X = feature_scaler.fit_transform(features)\n",
        "y = target_scaler.fit_transform(target.values.reshape(-1, 1))"
      ],
      "metadata": {
        "id": "j6OCZh0s0HPI"
      },
      "execution_count": 7,
      "outputs": []
    },
    {
      "cell_type": "code",
      "source": [
        "# Split the data with better ratios\n",
        "train_ratio, val_ratio = 0.8, 0.1\n",
        "train_size = int(len(preprocessed_dataset) * train_ratio)\n",
        "val_size = int(len(preprocessed_dataset) * val_ratio)\n",
        "\n",
        "X_train = X[:train_size]\n",
        "y_train = y[:train_size]\n",
        "X_val = X[train_size:train_size+val_size]\n",
        "y_val = y[train_size:train_size+val_size]\n",
        "X_test = X[train_size+val_size:]\n",
        "y_test = y[train_size+val_size:]\n",
        "\n",
        "print(X_train.shape)\n",
        "print(X_test.shape)\n",
        "print(X_val.shape)\n"
      ],
      "metadata": {
        "colab": {
          "base_uri": "https://localhost:8080/"
        },
        "id": "7iKnwrjU0KeY",
        "outputId": "76824241-9b06-4511-f575-e2d9ff6ec7fe"
      },
      "execution_count": 8,
      "outputs": [
        {
          "output_type": "stream",
          "name": "stdout",
          "text": [
            "(7012, 7)\n",
            "(878, 7)\n",
            "(876, 7)\n"
          ]
        }
      ]
    },
    {
      "cell_type": "code",
      "source": [
        "#ARIMA model\n",
        "auto_arima_model = auto_arima(\n",
        "    y_train,\n",
        "    exogenous=X_train,\n",
        "    start_p=0, start_q=0,\n",
        "    max_p=3, max_q=3, max_d=2,\n",
        "    m=12,  # Add seasonal component\n",
        "    seasonal=True,\n",
        "    trace=True,\n",
        "    error_action=\"ignore\",\n",
        "    suppress_warnings=True,\n",
        "    stepwise=True,\n",
        "    information_criterion='aic'\n",
        ")\n",
        "best_order = auto_arima_model.order"
      ],
      "metadata": {
        "colab": {
          "base_uri": "https://localhost:8080/"
        },
        "id": "avo0dLHT0LXO",
        "outputId": "7b3bdbe7-41eb-4695-a603-b8e87523349a"
      },
      "execution_count": 9,
      "outputs": [
        {
          "output_type": "stream",
          "name": "stdout",
          "text": [
            "Performing stepwise search to minimize aic\n",
            " ARIMA(0,1,0)(1,0,1)[12] intercept   : AIC=-24695.567, Time=19.96 sec\n",
            " ARIMA(0,1,0)(0,0,0)[12] intercept   : AIC=-24699.568, Time=2.36 sec\n",
            " ARIMA(1,1,0)(1,0,0)[12] intercept   : AIC=-24695.568, Time=9.15 sec\n",
            " ARIMA(0,1,1)(0,0,1)[12] intercept   : AIC=-24695.567, Time=6.56 sec\n",
            " ARIMA(0,1,0)(0,0,0)[12]             : AIC=-24701.237, Time=0.36 sec\n",
            " ARIMA(0,1,0)(1,0,0)[12] intercept   : AIC=-24697.568, Time=5.69 sec\n",
            " ARIMA(0,1,0)(0,0,1)[12] intercept   : AIC=-24697.568, Time=8.00 sec\n",
            " ARIMA(1,1,0)(0,0,0)[12] intercept   : AIC=-24697.568, Time=0.58 sec\n",
            " ARIMA(0,1,1)(0,0,0)[12] intercept   : AIC=-24697.567, Time=2.28 sec\n",
            " ARIMA(1,1,1)(0,0,0)[12] intercept   : AIC=-24695.567, Time=7.63 sec\n",
            "\n",
            "Best model:  ARIMA(0,1,0)(0,0,0)[12]          \n",
            "Total fit time: 62.698 seconds\n"
          ]
        }
      ]
    },
    {
      "cell_type": "code",
      "source": [
        "# Create and fit the ARIMA model\n",
        "model = ARIMA(y_train, exog=X_train, order=best_order)\n",
        "results = model.fit()"
      ],
      "metadata": {
        "id": "O2LlN58w0SSz"
      },
      "execution_count": 10,
      "outputs": []
    },
    {
      "cell_type": "code",
      "source": [
        "# Make predictions\n",
        "predictions = results.forecast(steps=len(y_test), exog=X_test)"
      ],
      "metadata": {
        "id": "WfS9n73P0Uck"
      },
      "execution_count": 11,
      "outputs": []
    },
    {
      "cell_type": "code",
      "source": [
        "# Inverse transform predictions and actual values\n",
        "predictions = target_scaler.inverse_transform(predictions.reshape(-1, 1))\n",
        "y_test_actual = target_scaler.inverse_transform(y_test)"
      ],
      "metadata": {
        "id": "tVIBQTge0WP1"
      },
      "execution_count": 12,
      "outputs": []
    },
    {
      "cell_type": "code",
      "source": [
        "# Calculate multiple metrics\n",
        "rmse = np.sqrt(mean_squared_error(y_test_actual, predictions))\n",
        "mae = mean_absolute_error(y_test_actual, predictions)\n",
        "r2 = r2_score(y_test_actual, predictions)\n",
        "print(f\"Root Mean Squared Error: {rmse}\")\n",
        "print(f\"Mean Absolute Error: {mae}\")\n",
        "print(f\"R² Score: {r2}\")"
      ],
      "metadata": {
        "colab": {
          "base_uri": "https://localhost:8080/"
        },
        "id": "0dZfuZGz0YTI",
        "outputId": "3aa34136-d612-4a99-e4e8-bd008b120957"
      },
      "execution_count": 13,
      "outputs": [
        {
          "output_type": "stream",
          "name": "stdout",
          "text": [
            "Root Mean Squared Error: 3.317800887171739\n",
            "Mean Absolute Error: 3.1626433355894594\n",
            "R² Score: 0.6223446085087136\n"
          ]
        }
      ]
    },
    {
      "cell_type": "code",
      "source": [
        "# Visualize predictions\n",
        "plt.figure(figsize=(12, 6))\n",
        "plt.plot(y_test_actual, label='Actual SOH')\n",
        "plt.plot(predictions, label='Predicted SOH')\n",
        "plt.title('SOH Prediction Results')\n",
        "plt.xlabel('Time')\n",
        "plt.ylabel('SOH')\n",
        "plt.legend()\n",
        "plt.show()"
      ],
      "metadata": {
        "colab": {
          "base_uri": "https://localhost:8080/",
          "height": 564
        },
        "id": "FfOncmPSlP0d",
        "outputId": "1d481fc0-35ed-4397-be0c-468cb0eac2b0"
      },
      "execution_count": 14,
      "outputs": [
        {
          "output_type": "display_data",
          "data": {
            "text/plain": [
              "<Figure size 1200x600 with 1 Axes>"
            ],
            "image/png": "[encoded data removed]"
          },
          "metadata": {}
        }
      ]
    }
  ]
}