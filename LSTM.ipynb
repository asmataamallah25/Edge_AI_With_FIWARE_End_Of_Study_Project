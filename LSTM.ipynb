{
  "cells": [
    {
      "cell_type": "code",
      "execution_count": 1,
      "metadata": {
        "colab": {
          "base_uri": "https://localhost:8080/"
        },
        "id": "3Iwf5nAyub4c",
        "outputId": "8900ad55-8f31-4a20-b402-8d18bafbedf2"
      },
      "outputs": [
        {
          "output_type": "stream",
          "name": "stdout",
          "text": [
            "Mounted at /content/drive\n"
          ]
        }
      ],
      "source": [
        "from google.colab import drive\n",
        "drive.mount('/content/drive')"
      ]
    },
    {
      "cell_type": "code",
      "execution_count": 2,
      "metadata": {
        "id": "5xjaEaLJu7-c"
      },
      "outputs": [],
      "source": [
        "import numpy as np\n",
        "import pandas as pd\n",
        "import matplotlib.pyplot as plt\n",
        "import tensorflow as tf\n",
        "from sklearn.preprocessing import LabelEncoder, MinMaxScaler\n",
        "from sklearn.metrics import mean_squared_error, mean_absolute_error, r2_score\n",
        "from tensorflow.keras.preprocessing.sequence import TimeseriesGenerator\n",
        "from tensorflow.keras.models import Sequential\n",
        "from tensorflow.keras.layers import LSTM, Dense, Dropout, BatchNormalization, Input\n",
        "from tensorflow.keras.callbacks import EarlyStopping, ReduceLROnPlateau\n",
        "from tensorflow.keras.optimizers import Adam"
      ]
    },
    {
      "cell_type": "code",
      "execution_count": 3,
      "metadata": {
        "colab": {
          "base_uri": "https://localhost:8080/"
        },
        "id": "OaWAul8IvE42",
        "outputId": "d1e4a1f8-a207-4ae5-e1c9-2058660d0484"
      },
      "outputs": [
        {
          "output_type": "stream",
          "name": "stdout",
          "text": [
            "Loading dataset...\n"
          ]
        }
      ],
      "source": [
        "# Load the preprocessed dataset\n",
        "print(\"Loading dataset...\")\n",
        "preprocessed_dataset = pd.read_csv('/content/drive/MyDrive/dataset/preprocessed_battery_data.csv')"
      ]
    },
    {
      "cell_type": "code",
      "source": [
        "print(preprocessed_dataset.shape)"
      ],
      "metadata": {
        "colab": {
          "base_uri": "https://localhost:8080/"
        },
        "id": "VV-wo6SJ2xy7",
        "outputId": "6c262a75-3b77-4395-ed22-5ff052cefc4d"
      },
      "execution_count": 4,
      "outputs": [
        {
          "output_type": "stream",
          "name": "stdout",
          "text": [
            "(8766, 8)\n"
          ]
        }
      ]
    },
    {
      "cell_type": "code",
      "execution_count": 5,
      "metadata": {
        "id": "rLJCf6G_vQeI"
      },
      "outputs": [],
      "source": [
        "# Separate features and target\n",
        "features = preprocessed_dataset.drop('SOH', axis=1)\n",
        "target = preprocessed_dataset['SOH']"
      ]
    },
    {
      "cell_type": "code",
      "source": [
        "print(features.shape)\n",
        "print(target.shape)"
      ],
      "metadata": {
        "colab": {
          "base_uri": "https://localhost:8080/"
        },
        "id": "qNw5agGe13b2",
        "outputId": "554cccec-a0c4-4204-e3de-87ae6bf4b374"
      },
      "execution_count": 6,
      "outputs": [
        {
          "output_type": "stream",
          "name": "stdout",
          "text": [
            "(8766, 7)\n",
            "(8766,)\n"
          ]
        }
      ]
    },
    {
      "cell_type": "code",
      "source": [
        "# Scale the data\n",
        "feature_scaler = MinMaxScaler(feature_range=(-1, 1))\n",
        "target_scaler = MinMaxScaler(feature_range=(-1, 1))\n",
        "\n",
        "# Scale the features and target\n",
        "X = feature_scaler.fit_transform(features)\n",
        "y = target_scaler.fit_transform(target.values.reshape(-1, 1))"
      ],
      "metadata": {
        "id": "GbI3I45lQW_9"
      },
      "execution_count": 7,
      "outputs": []
    },
    {
      "cell_type": "code",
      "execution_count": 8,
      "metadata": {
        "id": "k34T-8KsvStR"
      },
      "outputs": [],
      "source": [
        "# Split the data with better ratios\n",
        "train_ratio, val_ratio = 0.8, 0.1  # Increased training data\n",
        "train_size = int(len(preprocessed_dataset) * train_ratio)\n",
        "val_size = int(len(preprocessed_dataset) * val_ratio)\n",
        "\n",
        "X_train = X[:train_size]\n",
        "y_train = y[:train_size]\n",
        "X_val = X[train_size:train_size+val_size]\n",
        "y_val = y[train_size:train_size+val_size]\n",
        "X_test = X[train_size+val_size:]\n",
        "y_test = y[train_size+val_size:]\n"
      ]
    },
    {
      "cell_type": "markdown",
      "source": [],
      "metadata": {
        "id": "NdgaukTD8PJC"
      }
    },
    {
      "cell_type": "code",
      "source": [
        "print(X_train.shape)\n",
        "print(X_test.shape)\n",
        "print(X_val.shape)"
      ],
      "metadata": {
        "colab": {
          "base_uri": "https://localhost:8080/"
        },
        "id": "1ztSgocr02wV",
        "outputId": "8cdc9519-6dfc-42c7-bb26-a385e04f362d"
      },
      "execution_count": 9,
      "outputs": [
        {
          "output_type": "stream",
          "name": "stdout",
          "text": [
            "(7012, 7)\n",
            "(878, 7)\n",
            "(876, 7)\n"
          ]
        }
      ]
    },
    {
      "cell_type": "code",
      "execution_count": 10,
      "metadata": {
        "id": "vP72Vdi0u2P9"
      },
      "outputs": [],
      "source": [
        "# TimeseriesGenerator configuration\n",
        "time_steps = 90  # Increased time steps\n",
        "batch_size = 64  # Increased batch size\n",
        "\n",
        "train_generator = TimeseriesGenerator(\n",
        "    X_train, y_train,\n",
        "    length=time_steps,\n",
        "    batch_size=batch_size,\n",
        "    shuffle=True\n",
        ")\n",
        "\n",
        "val_generator = TimeseriesGenerator(\n",
        "    X_val, y_val,\n",
        "    length=time_steps,\n",
        "    batch_size=batch_size,\n",
        "    shuffle=False\n",
        ")\n",
        "\n",
        "test_generator = TimeseriesGenerator(\n",
        "    X_test, y_test,\n",
        "    length=time_steps,\n",
        "    batch_size=batch_size,\n",
        "    shuffle=False\n",
        ")"
      ]
    },
    {
      "cell_type": "code",
      "source": [
        "# Improved model architecture\n",
        "model = Sequential([\n",
        "    Input(shape=(time_steps, X_train.shape[1])),\n",
        "    LSTM(128, return_sequences=False),\n",
        "    Dense(1)\n",
        "])"
      ],
      "metadata": {
        "id": "N5oLs5rHQhjU"
      },
      "execution_count": 11,
      "outputs": []
    },
    {
      "cell_type": "code",
      "source": [
        "# Compile with custom learning rate\n",
        "optimizer = Adam(learning_rate=0.001)\n",
        "model.compile(loss='mae', optimizer=optimizer)\n",
        "\n",
        "# Enhanced callbacks\n",
        "callbacks = [\n",
        "    EarlyStopping(\n",
        "        monitor='val_loss',\n",
        "        patience=10,\n",
        "        restore_best_weights=True,\n",
        "        verbose=1\n",
        "    ),\n",
        "    ReduceLROnPlateau(\n",
        "        monitor='val_loss',\n",
        "        factor=0.5,\n",
        "        patience=5,\n",
        "        min_lr=0.00001,\n",
        "        verbose=1\n",
        "    )\n",
        "]\n"
      ],
      "metadata": {
        "id": "UY1hCWR65Y3z"
      },
      "execution_count": 12,
      "outputs": []
    },
    {
      "cell_type": "code",
      "source": [
        "# Train the model\n",
        "history = model.fit(\n",
        "    train_generator,\n",
        "    epochs=50,\n",
        "    validation_data=val_generator,\n",
        "    callbacks=callbacks,\n",
        "    verbose=1\n",
        ")"
      ],
      "metadata": {
        "colab": {
          "base_uri": "https://localhost:8080/"
        },
        "id": "buaC9neABDjK",
        "outputId": "c9ffd0ee-0945-4ae2-af06-4ae5fe66bfc5"
      },
      "execution_count": 13,
      "outputs": [
        {
          "output_type": "stream",
          "name": "stdout",
          "text": [
            "Epoch 1/50\n"
          ]
        },
        {
          "output_type": "stream",
          "name": "stderr",
          "text": [
            "/usr/local/lib/python3.10/dist-packages/keras/src/trainers/data_adapters/py_dataset_adapter.py:122: UserWarning: Your `PyDataset` class should call `super().__init__(**kwargs)` in its constructor. `**kwargs` can include `workers`, `use_multiprocessing`, `max_queue_size`. Do not pass these arguments to `fit()`, as they will be ignored.\n",
            "  self._warn_if_super_not_called()\n"
          ]
        },
        {
          "output_type": "stream",
          "name": "stdout",
          "text": [
            "\u001b[1m109/109\u001b[0m \u001b[32m━━━━━━━━━━━━━━━━━━━━\u001b[0m\u001b[37m\u001b[0m \u001b[1m24s\u001b[0m 191ms/step - loss: 0.1796 - val_loss: 0.3902 - learning_rate: 0.0010\n",
            "Epoch 2/50\n",
            "\u001b[1m109/109\u001b[0m \u001b[32m━━━━━━━━━━━━━━━━━━━━\u001b[0m\u001b[37m\u001b[0m \u001b[1m17s\u001b[0m 154ms/step - loss: 0.0329 - val_loss: 0.3410 - learning_rate: 0.0010\n",
            "Epoch 3/50\n",
            "\u001b[1m109/109\u001b[0m \u001b[32m━━━━━━━━━━━━━━━━━━━━\u001b[0m\u001b[37m\u001b[0m \u001b[1m20s\u001b[0m 150ms/step - loss: 0.0223 - val_loss: 0.3277 - learning_rate: 0.0010\n",
            "Epoch 4/50\n",
            "\u001b[1m109/109\u001b[0m \u001b[32m━━━━━━━━━━━━━━━━━━━━\u001b[0m\u001b[37m\u001b[0m \u001b[1m21s\u001b[0m 160ms/step - loss: 0.0186 - val_loss: 0.3220 - learning_rate: 0.0010\n",
            "Epoch 5/50\n",
            "\u001b[1m109/109\u001b[0m \u001b[32m━━━━━━━━━━━━━━━━━━━━\u001b[0m\u001b[37m\u001b[0m \u001b[1m20s\u001b[0m 153ms/step - loss: 0.0145 - val_loss: 0.3106 - learning_rate: 0.0010\n",
            "Epoch 6/50\n",
            "\u001b[1m109/109\u001b[0m \u001b[32m━━━━━━━━━━━━━━━━━━━━\u001b[0m\u001b[37m\u001b[0m \u001b[1m17s\u001b[0m 152ms/step - loss: 0.0147 - val_loss: 0.2990 - learning_rate: 0.0010\n",
            "Epoch 7/50\n",
            "\u001b[1m109/109\u001b[0m \u001b[32m━━━━━━━━━━━━━━━━━━━━\u001b[0m\u001b[37m\u001b[0m \u001b[1m23s\u001b[0m 177ms/step - loss: 0.0136 - val_loss: 0.2968 - learning_rate: 0.0010\n",
            "Epoch 8/50\n",
            "\u001b[1m109/109\u001b[0m \u001b[32m━━━━━━━━━━━━━━━━━━━━\u001b[0m\u001b[37m\u001b[0m \u001b[1m17s\u001b[0m 155ms/step - loss: 0.0175 - val_loss: 0.2982 - learning_rate: 0.0010\n",
            "Epoch 9/50\n",
            "\u001b[1m109/109\u001b[0m \u001b[32m━━━━━━━━━━━━━━━━━━━━\u001b[0m\u001b[37m\u001b[0m \u001b[1m21s\u001b[0m 159ms/step - loss: 0.0122 - val_loss: 0.2834 - learning_rate: 0.0010\n",
            "Epoch 10/50\n",
            "\u001b[1m109/109\u001b[0m \u001b[32m━━━━━━━━━━━━━━━━━━━━\u001b[0m\u001b[37m\u001b[0m \u001b[1m20s\u001b[0m 152ms/step - loss: 0.0112 - val_loss: 0.2893 - learning_rate: 0.0010\n",
            "Epoch 11/50\n",
            "\u001b[1m109/109\u001b[0m \u001b[32m━━━━━━━━━━━━━━━━━━━━\u001b[0m\u001b[37m\u001b[0m \u001b[1m17s\u001b[0m 155ms/step - loss: 0.0118 - val_loss: 0.2930 - learning_rate: 0.0010\n",
            "Epoch 12/50\n",
            "\u001b[1m109/109\u001b[0m \u001b[32m━━━━━━━━━━━━━━━━━━━━\u001b[0m\u001b[37m\u001b[0m \u001b[1m17s\u001b[0m 153ms/step - loss: 0.0098 - val_loss: 0.2973 - learning_rate: 0.0010\n",
            "Epoch 13/50\n",
            "\u001b[1m109/109\u001b[0m \u001b[32m━━━━━━━━━━━━━━━━━━━━\u001b[0m\u001b[37m\u001b[0m \u001b[1m21s\u001b[0m 159ms/step - loss: 0.0133 - val_loss: 0.3001 - learning_rate: 0.0010\n",
            "Epoch 14/50\n",
            "\u001b[1m109/109\u001b[0m \u001b[32m━━━━━━━━━━━━━━━━━━━━\u001b[0m\u001b[37m\u001b[0m \u001b[1m17s\u001b[0m 153ms/step - loss: 0.0130 - val_loss: 0.2746 - learning_rate: 0.0010\n",
            "Epoch 15/50\n",
            "\u001b[1m109/109\u001b[0m \u001b[32m━━━━━━━━━━━━━━━━━━━━\u001b[0m\u001b[37m\u001b[0m \u001b[1m17s\u001b[0m 153ms/step - loss: 0.0123 - val_loss: 0.2771 - learning_rate: 0.0010\n",
            "Epoch 16/50\n",
            "\u001b[1m109/109\u001b[0m \u001b[32m━━━━━━━━━━━━━━━━━━━━\u001b[0m\u001b[37m\u001b[0m \u001b[1m20s\u001b[0m 153ms/step - loss: 0.0105 - val_loss: 0.2796 - learning_rate: 0.0010\n",
            "Epoch 17/50\n",
            "\u001b[1m109/109\u001b[0m \u001b[32m━━━━━━━━━━━━━━━━━━━━\u001b[0m\u001b[37m\u001b[0m \u001b[1m16s\u001b[0m 152ms/step - loss: 0.0104 - val_loss: 0.2746 - learning_rate: 0.0010\n",
            "Epoch 18/50\n",
            "\u001b[1m109/109\u001b[0m \u001b[32m━━━━━━━━━━━━━━━━━━━━\u001b[0m\u001b[37m\u001b[0m \u001b[1m17s\u001b[0m 153ms/step - loss: 0.0110 - val_loss: 0.2735 - learning_rate: 0.0010\n",
            "Epoch 19/50\n",
            "\u001b[1m109/109\u001b[0m \u001b[32m━━━━━━━━━━━━━━━━━━━━\u001b[0m\u001b[37m\u001b[0m \u001b[1m21s\u001b[0m 158ms/step - loss: 0.0117 - val_loss: 0.2832 - learning_rate: 0.0010\n",
            "Epoch 20/50\n",
            "\u001b[1m109/109\u001b[0m \u001b[32m━━━━━━━━━━━━━━━━━━━━\u001b[0m\u001b[37m\u001b[0m \u001b[1m20s\u001b[0m 153ms/step - loss: 0.0090 - val_loss: 0.2787 - learning_rate: 0.0010\n",
            "Epoch 21/50\n",
            "\u001b[1m109/109\u001b[0m \u001b[32m━━━━━━━━━━━━━━━━━━━━\u001b[0m\u001b[37m\u001b[0m \u001b[1m20s\u001b[0m 153ms/step - loss: 0.0097 - val_loss: 0.2740 - learning_rate: 0.0010\n",
            "Epoch 22/50\n",
            "\u001b[1m109/109\u001b[0m \u001b[32m━━━━━━━━━━━━━━━━━━━━\u001b[0m\u001b[37m\u001b[0m \u001b[1m17s\u001b[0m 151ms/step - loss: 0.0094 - val_loss: 0.2747 - learning_rate: 0.0010\n",
            "Epoch 23/50\n",
            "\u001b[1m109/109\u001b[0m \u001b[32m━━━━━━━━━━━━━━━━━━━━\u001b[0m\u001b[37m\u001b[0m \u001b[1m0s\u001b[0m 188ms/step - loss: 0.0091\n",
            "Epoch 23: ReduceLROnPlateau reducing learning rate to 0.0005000000237487257.\n",
            "\u001b[1m109/109\u001b[0m \u001b[32m━━━━━━━━━━━━━━━━━━━━\u001b[0m\u001b[37m\u001b[0m \u001b[1m22s\u001b[0m 199ms/step - loss: 0.0091 - val_loss: 0.2791 - learning_rate: 0.0010\n",
            "Epoch 24/50\n",
            "\u001b[1m109/109\u001b[0m \u001b[32m━━━━━━━━━━━━━━━━━━━━\u001b[0m\u001b[37m\u001b[0m \u001b[1m36s\u001b[0m 155ms/step - loss: 0.0053 - val_loss: 0.2733 - learning_rate: 5.0000e-04\n",
            "Epoch 25/50\n",
            "\u001b[1m109/109\u001b[0m \u001b[32m━━━━━━━━━━━━━━━━━━━━\u001b[0m\u001b[37m\u001b[0m \u001b[1m21s\u001b[0m 158ms/step - loss: 0.0071 - val_loss: 0.2736 - learning_rate: 5.0000e-04\n",
            "Epoch 26/50\n",
            "\u001b[1m109/109\u001b[0m \u001b[32m━━━━━━━━━━━━━━━━━━━━\u001b[0m\u001b[37m\u001b[0m \u001b[1m20s\u001b[0m 153ms/step - loss: 0.0064 - val_loss: 0.2767 - learning_rate: 5.0000e-04\n",
            "Epoch 27/50\n",
            "\u001b[1m109/109\u001b[0m \u001b[32m━━━━━━━━━━━━━━━━━━━━\u001b[0m\u001b[37m\u001b[0m \u001b[1m17s\u001b[0m 154ms/step - loss: 0.0060 - val_loss: 0.2810 - learning_rate: 5.0000e-04\n",
            "Epoch 28/50\n",
            "\u001b[1m109/109\u001b[0m \u001b[32m━━━━━━━━━━━━━━━━━━━━\u001b[0m\u001b[37m\u001b[0m \u001b[1m17s\u001b[0m 151ms/step - loss: 0.0083 - val_loss: 0.2829 - learning_rate: 5.0000e-04\n",
            "Epoch 29/50\n",
            "\u001b[1m109/109\u001b[0m \u001b[32m━━━━━━━━━━━━━━━━━━━━\u001b[0m\u001b[37m\u001b[0m \u001b[1m0s\u001b[0m 150ms/step - loss: 0.0051\n",
            "Epoch 29: ReduceLROnPlateau reducing learning rate to 0.0002500000118743628.\n",
            "\u001b[1m109/109\u001b[0m \u001b[32m━━━━━━━━━━━━━━━━━━━━\u001b[0m\u001b[37m\u001b[0m \u001b[1m17s\u001b[0m 155ms/step - loss: 0.0051 - val_loss: 0.2812 - learning_rate: 5.0000e-04\n",
            "Epoch 30/50\n",
            "\u001b[1m109/109\u001b[0m \u001b[32m━━━━━━━━━━━━━━━━━━━━\u001b[0m\u001b[37m\u001b[0m \u001b[1m17s\u001b[0m 155ms/step - loss: 0.0064 - val_loss: 0.2809 - learning_rate: 2.5000e-04\n",
            "Epoch 31/50\n",
            "\u001b[1m109/109\u001b[0m \u001b[32m━━━━━━━━━━━━━━━━━━━━\u001b[0m\u001b[37m\u001b[0m \u001b[1m16s\u001b[0m 151ms/step - loss: 0.0058 - val_loss: 0.2832 - learning_rate: 2.5000e-04\n",
            "Epoch 32/50\n",
            "\u001b[1m109/109\u001b[0m \u001b[32m━━━━━━━━━━━━━━━━━━━━\u001b[0m\u001b[37m\u001b[0m \u001b[1m17s\u001b[0m 155ms/step - loss: 0.0036 - val_loss: 0.2839 - learning_rate: 2.5000e-04\n",
            "Epoch 33/50\n",
            "\u001b[1m109/109\u001b[0m \u001b[32m━━━━━━━━━━━━━━━━━━━━\u001b[0m\u001b[37m\u001b[0m \u001b[1m17s\u001b[0m 153ms/step - loss: 0.0040 - val_loss: 0.2805 - learning_rate: 2.5000e-04\n",
            "Epoch 34/50\n",
            "\u001b[1m109/109\u001b[0m \u001b[32m━━━━━━━━━━━━━━━━━━━━\u001b[0m\u001b[37m\u001b[0m \u001b[1m0s\u001b[0m 148ms/step - loss: 0.0043\n",
            "Epoch 34: ReduceLROnPlateau reducing learning rate to 0.0001250000059371814.\n",
            "\u001b[1m109/109\u001b[0m \u001b[32m━━━━━━━━━━━━━━━━━━━━\u001b[0m\u001b[37m\u001b[0m \u001b[1m20s\u001b[0m 153ms/step - loss: 0.0043 - val_loss: 0.2833 - learning_rate: 2.5000e-04\n",
            "Epoch 34: early stopping\n",
            "Restoring model weights from the end of the best epoch: 24.\n"
          ]
        }
      ]
    },
    {
      "cell_type": "code",
      "execution_count": 16,
      "metadata": {
        "colab": {
          "base_uri": "https://localhost:8080/"
        },
        "id": "Vgan9BFP8hCZ",
        "outputId": "a8f8d50d-3e0f-4830-ecb4-dcf4f1232331"
      },
      "outputs": [
        {
          "output_type": "stream",
          "name": "stdout",
          "text": [
            "\u001b[1m13/13\u001b[0m \u001b[32m━━━━━━━━━━━━━━━━━━━━\u001b[0m\u001b[37m\u001b[0m \u001b[1m1s\u001b[0m 94ms/step - loss: 0.6781\n",
            "Test Loss: 0.7559904456138611\n"
          ]
        }
      ],
      "source": [
        "# Evaluate the model\n",
        "test_loss = model.evaluate(test_generator)\n",
        "print(f\"Test Loss: {test_loss}\")"
      ]
    },
    {
      "cell_type": "code",
      "source": [
        "# Make predictions\n",
        "predictions = model.predict(test_generator)\n",
        "predictions = predictions.reshape(-1)  # Reshape to 1D array\n",
        "y_test_plot = y_test[time_steps:]  # Adjust test data to match predictions length\n",
        "\n",
        "# Calculate metrics\n",
        "rmse = np.sqrt(mean_squared_error(y_test_plot, predictions))\n",
        "mae = mean_absolute_error(y_test_plot, predictions)\n",
        "r2 = r2_score(y_test_plot, predictions)\n",
        "\n",
        "\n",
        "# Print the metrics with formatting\n",
        "print(f\"Root Mean Square Error (RMSE): {rmse:.4f}\")\n",
        "print(f\"Mean Absolute Error (MAE): {mae:.4f}\")\n",
        "print(f\"R-squared Score (R²): {r2:.4f}\")\n",
        "\n"
      ],
      "metadata": {
        "colab": {
          "base_uri": "https://localhost:8080/"
        },
        "id": "t3R5T9Cjx8mz",
        "outputId": "f4edea31-77a0-4286-924b-6d8de2b6abb4"
      },
      "execution_count": 20,
      "outputs": [
        {
          "output_type": "stream",
          "name": "stdout",
          "text": [
            "\u001b[1m13/13\u001b[0m \u001b[32m━━━━━━━━━━━━━━━━━━━━\u001b[0m\u001b[37m\u001b[0m \u001b[1m1s\u001b[0m 88ms/step\n",
            "Root Mean Square Error (RMSE): 0.7642\n",
            "Mean Absolute Error (MAE): 0.7560\n",
            "R-squared Score (R²): -4.6024\n"
          ]
        }
      ]
    },
    {
      "cell_type": "code",
      "source": [
        "# Plotting\n",
        "plt.figure(figsize=(12, 6))\n",
        "plt.plot(predictions, label='Predicted SOH')\n",
        "plt.plot(y_test_plot, label='Actual SOH')\n",
        "plt.title('SOH Prediction Results')\n",
        "plt.xlabel('Time')\n",
        "plt.ylabel('SOH')\n",
        "plt.legend()\n",
        "plt.show()"
      ],
      "metadata": {
        "id": "mhMFDGnQBZZS",
        "outputId": "0528727e-59c2-45ee-c3a2-bc6af1cb0feb",
        "colab": {
          "base_uri": "https://localhost:8080/",
          "height": 564
        }
      },
      "execution_count": 21,
      "outputs": [
        {
          "output_type": "display_data",
          "data": {
            "text/plain": [
              "<Figure size 1200x600 with 1 Axes>"
            ],
            "image/png": "[encoded data removed]"
          },
          "metadata": {}
        }
      ]
    },
    {
      "cell_type": "code",
      "source": [],
      "metadata": {
        "id": "0nHqMQQmBaXM"
      },
      "execution_count": null,
      "outputs": []
    }
  ],
  "metadata": {
    "colab": {
      "provenance": []
    },
    "kernelspec": {
      "display_name": "Python 3",
      "name": "python3"
    },
    "language_info": {
      "name": "python"
    }
  },
  "nbformat": 4,
  "nbformat_minor": 0
}